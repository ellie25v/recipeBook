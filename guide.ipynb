{
 "cells": [
  {
   "cell_type": "markdown",
   "metadata": {},
   "source": [
    "# Rules and guidelines for coloborative work on github\n",
    "\n",
    "1. After you cloned repo and opened it in code editor, you need to create your own branch in terminal (you can name it after your name or page that you are working on). This is important so we can avoid conflicts in code.\n",
    "\n",
    "> **Example!**: git checkout -b ellie\n",
    "\n",
    ">    This will create a branch named ellie, where i will work on my part. \n",
    "\n",
    "2. You will find a folder with your page. Start with index.html and think about structure you need for that page. I advise you to do page design or page structure on figma similarly to main page.\n",
    "\n",
    "3. Start from mobile version and build up. Most of the differences between mobile, tablet and desktop concerns **css, not html**. But plan your structure accordingly.\n",
    "\n",
    "4. If your page is not main, don't make header and footer.\n",
    "\n",
    "5. Use appropriate tags, don't make everything div. It is important to use classes in html, so it's easier to style and sometimes find elements for js actions. \n",
    "\n",
    "> **Example!**:  \n",
    ">      ``` <section class=\"section about-us\"> ``` <br>\n",
    ">  $\\;\\;\\;\\;\\;\\;$    ```      <h2 class=\"section-title\">Why us?</h2>``` <br>\n",
    ">  $\\;\\;\\;\\;\\;\\;$    ```      <ul class=\"about-us__list\">``` <br>\n",
    ">  $\\;\\;\\;\\;\\;\\;\\;\\;\\;\\;$    ```          <li class=\"about-us__list-item\">``` <br>\n",
    ">  $\\;\\;\\;\\;\\;\\;\\;\\;\\;\\;\\;\\;\\;\\;$    ```              <div class=\"about-us__list-text\">``` <br>\n",
    ">  $\\;\\;\\;\\;\\;\\;\\;\\;\\;\\;\\;\\;\\;\\;\\;\\;\\;\\;$   ```                  <h3 class=\"about-us__list-title\">Some text</h3>``` <br>\n",
    ">  $\\;\\;\\;\\;\\;\\;\\;\\;\\;\\;\\;\\;\\;\\;\\;\\;\\;\\;$    ```                  <p class=\"about-us__list-descr\">Lorem ipsum dolor sit amet, consectetur adipiscing elit, sed do eiusmod tempor.</p>``` <br>\n",
    ">   $\\;\\;\\;\\;\\;\\;\\;\\;\\;\\;\\;\\;\\;\\;$   ```              </div>``` <br>\n",
    ">               ``` </li></ul></section> ```\n",
    "\n",
    "There are classes that will be used in a lot of places, for example section or section-title. We will have more or less unified style, so instead of repeating we can use these classes everywhere.\n",
    "Also this structure explains what each element represents, so everybody can underssyand what's going on there without additional explanation. However, i advise you to leave comments to explain further.\n",
    "**Class structure:** \"section-name__item-name\"\n",
    "    use - instead of space in names for example : list-item; \n",
    "    if you do use space it will break classes in two. This also could be helpful, for example here <section class=\"section about-us\"> where we need to this part to be both section (so it inherits section styles) and also has it's own class (to modify only this exact section without messing other sections)\n",
    "    \n",
    "6. I advise you to get these extensions (i use Visual Studio Code, idk for any other IDE) :\n",
    "        a. Live Server, so all changes that you make will automaticaly visible when you start your code. \n",
    "        b. any html code snippet\n",
    "        c. Prettier - Code formatter\n",
    "They are not obligatiry, just making life easier.\n",
    "\n",
    "7. When you finishsome chunk of your work (for example markdown for some section), you need to commit, so your work will be uploaded to everyones github.\n",
    "**Make sure it's working!!!**\n",
    "> **Example!**:<br> \n",
    "> git pull origin dev <br>\n",
    "> git add .<br>\n",
    "> git commit -m \"markdown for section a done, changed classes to camel case\" <br>\n",
    "> git push \n",
    "\n",
    "P.S. after git commit u need to write your owm comment on what this push is about\n",
    "\n",
    "if there is nothing wrong, your commit will be pushed to our repo. Then you need to merge it with dev. To do it you need to go here https://github.com/ellie25v/recipeBook/pulls (pull request tab of our repo) and click button **New pull request**. Choose your branch and merge it with dev. "
   ]
  }
 ],
 "metadata": {
  "kernelspec": {
   "display_name": "Python 3",
   "language": "python",
   "name": "python3"
  },
  "language_info": {
   "codemirror_mode": {
    "name": "ipython",
    "version": 3
   },
   "file_extension": ".py",
   "mimetype": "text/x-python",
   "name": "python",
   "nbconvert_exporter": "python",
   "pygments_lexer": "ipython3",
   "version": "3.11.3"
  }
 },
 "nbformat": 4,
 "nbformat_minor": 2
}
